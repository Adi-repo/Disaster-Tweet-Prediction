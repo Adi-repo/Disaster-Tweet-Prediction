{
 "cells": [
  {
   "cell_type": "code",
   "execution_count": 14,
   "metadata": {},
   "outputs": [
    {
     "name": "stdout",
     "output_type": "stream",
     "text": [
      "x: 1085, y: 934\n"
     ]
    }
   ],
   "source": [
    "import pyautogui\n",
    "\n",
    "# Wait for 5 seconds to give you time to position your mouse over the chat prompt\n",
    "pyautogui.PAUSE = 20\n",
    "\n",
    "# Get the current x and y coordinates of your mouse pointer\n",
    "x, y = pyautogui.position()\n",
    "\n",
    "# Print the x and y coordinates\n",
    "print(f\"x: {x}, y: {y}\")\n",
    "                                                               "
   ]
  },
  {
   "cell_type": "code",
   "execution_count": 1,
   "metadata": {},
   "outputs": [],
   "source": [
    "import csv\n",
    "import pyautogui\n",
    "import time\n",
    "import webbrowser\n",
    "\n",
    "# Open the CSV file and read the contents\n",
    "with open('test.csv', newline='') as csvfile:\n",
    "    reader = csv.reader(csvfile)\n",
    "    data = list(reader)[1:]  # Start from the 2nd row of the CSV file\n",
    "\n",
    "# Extract the text from the 4th column of the CSV file\n",
    "text_data = [row[3] for row in data]\n",
    "\n",
    "# Open the web browser and navigate to the desired website\n",
    "webbrowser.open('https://chat.openai.com/c/39a873b5-4863-466e-808c-6bf1cdffd5f4')\n",
    "\n",
    "# Wait for the website to load\n",
    "time.sleep(10)\n",
    "\n",
    "# Set the x and y coordinates of the text input field\n",
    "text_input_x = 1085\n",
    "text_input_y = 934\n",
    "\n",
    "# Loop through the data and paste it into the text input field\n",
    "for text in text_data:\n",
    "    pyautogui.click(text_input_x, text_input_y)\n",
    "    pyautogui.hotkey('ctrl', 'a')\n",
    "    pyautogui.typewrite(text)\n",
    "    pyautogui.press('enter')\n",
    "    time.sleep(15)\n"
   ]
  }
 ],
 "metadata": {
  "kernelspec": {
   "display_name": "IntelAPI",
   "language": "python",
   "name": "intelapi"
  },
  "language_info": {
   "codemirror_mode": {
    "name": "ipython",
    "version": 3
   },
   "file_extension": ".py",
   "mimetype": "text/x-python",
   "name": "python",
   "nbconvert_exporter": "python",
   "pygments_lexer": "ipython3",
   "version": "3.8.16"
  },
  "orig_nbformat": 4
 },
 "nbformat": 4,
 "nbformat_minor": 2
}
