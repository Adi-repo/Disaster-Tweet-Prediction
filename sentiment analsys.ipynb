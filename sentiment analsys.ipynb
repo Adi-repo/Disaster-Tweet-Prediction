{
 "cells": [
  {
   "cell_type": "code",
   "execution_count": 14,
   "metadata": {},
   "outputs": [
    {
     "name": "stdout",
     "output_type": "stream",
     "text": [
      "x: 1085, y: 934\n"
     ]
    }
   ],
   "source": [
    "import pyautogui\n",
    "\n",
    "# Wait for 5 seconds to give you time to position your mouse over the chat prompt\n",
    "pyautogui.PAUSE = 20\n",
    "\n",
    "# Get the current x and y coordinates of your mouse pointer.\n",
    "# x, y = pygame.mouse.get_pos()\n",
    "#\n",
    "# # Draw a circle at the current mouse coordinates.\n",
    "# pygame.draw.circle(screen, (255, 0, 0), (x, y), 10)\n",
    "#\n",
    "# # Update the display.\n",
    "# pygame.display.update()\n",
    "#\n",
    "#\n",
    "x, y = pyautogui.position()\n",
    "\n",
    "# Print the x and y coordinates\n",
    "print(f\"x: {x}, y: {y}\")\n",
    "                                                               "
   ]
  },
  {
   "cell_type": "code",
   "execution_count": null,
   "metadata": {},
   "outputs": [],
   "source": [
    "import csv\n",
    "import pyautogui\n",
    "import time\n",
    "import webbrowser\n",
    "\n",
    "# Open the CSV file and read the contents\n",
    "with open('test.csv', newline='') as csvfile:\n",
    "    reader = csv.reader(csvfile)\n",
    "    data = list(reader)[1:]  # Start from the 2nd row of the CSV file\n",
    "\n",
    "# Extract the text from the 4th column of the CSV file\n",
    "text_data = [row[3] for row in data]\n",
    "\n",
    "# Open the web browser and navigate to the desired website\n",
    "webbrowser.open('https://chat.openai.com/c/fa0d5a6a-ec9b-44f6-87f0-a6b1e24ae94e')\n",
    "\n",
    "# Wait for the website to load\n",
    "time.sleep(10)\n",
    "\n",
    "# Set the x and y coordinates of the text input field\n",
    "text_input_x = 1085\n",
    "text_input_y = 934\n",
    "#txt = \"given a tweet predict if it is a disaster tweet or not. Print 1 if it is a disaster tweet, print 0 if it is not a disaster tweet. \\n\\ for example - \\n\\ prompt : Our Deeds are the Reason of this #earthquake May ALLAH Forgive us all \\n\\ 1 \\n\\ prompt : I love fruits \\n\\ 0 \\n\\ prompt : [Reuters] Debris confirmed from MH370; relatives hope for discovery of crash site http://t.co/DFYaSVj7NF \\n\\ 1 \\n\\ prompt :\"\n",
    "\n",
    "# Loop through the data and paste it into the text input field\n",
    "ctr = 0\n",
    "for text in text_data:\n",
    "    pyautogui.click(text_input_x, text_input_y)\n",
    "    with open('file.txt', 'r') as file:\n",
    "        data = file.read()\n",
    "    file.close()\n",
    "    prompt = data + text\n",
    "    pyautogui.typewrite(prompt)\n",
    "    pyautogui.press('enter')\n",
    "    time.sleep(5)\n",
    "    ctr += 1\n",
    "    if ctr == 100:\n",
    "        break\n",
    "    \n"
   ]
  },
  {
   "cell_type": "code",
   "execution_count": 2,
   "metadata": {},
   "outputs": [],
   "source": [
    "import csv\n",
    "import pyautogui\n",
    "import time\n",
    "import webbrowser\n",
    "\n",
    "# Open the CSV file and read the contents\n",
    "with open('test.csv', newline='') as csvfile:\n",
    "    reader = csv.reader(csvfile)\n",
    "    data = list(reader)[1:]  # Start from the 2nd row of the CSV file\n",
    "\n",
    "# Extract the text from the 4th column of the CSV file\n",
    "text_data = [row[3] for row in data]\n",
    "\n",
    "# Open the web browser and navigate to the desired website\n",
    "webbrowser.open('https://chat.openai.com/c/fa0d5a6a-ec9b-44f6-87f0-a6b1e24ae94e')\n",
    "\n",
    "# Wait for the website to load\n",
    "time.sleep(10)\n",
    "\n",
    "# Set the x and y coordinates of the text input field\n",
    "text_input_x = 1085\n",
    "text_input_y = 934\n",
    "#txt = \"given a tweet predict if it is a disaster tweet or not. Print 1 if it is a disaster tweet, print 0 if it is not a disaster tweet. \\n\\ for example - \\n\\ prompt : Our Deeds are the Reason of this #earthquake May ALLAH Forgive us all \\n\\ 1 \\n\\ prompt : I love fruits \\n\\ 0 \\n\\ prompt : [Reuters] Debris confirmed from MH370; relatives hope for discovery of crash site http://t.co/DFYaSVj7NF \\n\\ 1 \\n\\ prompt :\"\n",
    "\n",
    "# Loop through the data and paste it into the text input field\n",
    "ctr = 0\n",
    "\n",
    "with open('file.txt', 'r') as file:\n",
    "        data = file.read()\n",
    "file.close()\n",
    "prompt = data + \" \" + text_data[0] \n",
    "i = 0\n",
    "\n",
    "for text in text_data:\n",
    "\n",
    "    pyautogui.click(text_input_x, text_input_y)\n",
    "    \n",
    "    \n",
    "    if i < 10:\n",
    "        prompt = prompt + \" \" + text\n",
    "        i  += 1\n",
    "    else:\n",
    "        pyautogui.typewrite(prompt)\n",
    "        pyautogui.press('enter')\n",
    "        time.sleep(10)\n",
    "        i = 0\n",
    "        ctr += 1\n",
    "    \n",
    "    if ctr == 1:\n",
    "        break\n",
    "    \n"
   ]
  },
  {
   "cell_type": "code",
   "execution_count": 2,
   "metadata": {},
   "outputs": [
    {
     "name": "stdout",
     "output_type": "stream",
     "text": [
      "given a tweet predict if it is a disaster tweet or not. Print 1 if it is a disaster tweet, print 0 if it is not a disaster tweet. \\n\\ for example - \\n\\ prompt : Our Deeds are the Reason of this #earthquake May ALLAH Forgive us all \\n\\ 1 \\n\\ prompt : I love fruits \\n\\ 0 \\n\\ prompt : [Reuters] Debris confirmed from MH370; relatives hope for discovery of crash site http://t.co/DFYaSVj7NF \\n\\ 1 \\n\\ prompt :\n"
     ]
    }
   ],
   "source": [
    "# how to read text from a file\n",
    "with open('file.txt', 'r') as file:\n",
    "    data = file.read()\n",
    "    print(data)\n"
   ]
  }
 ],
 "metadata": {
  "kernelspec": {
   "display_name": "IntelAPI",
   "language": "python",
   "name": "intelapi"
  },
  "language_info": {
   "codemirror_mode": {
    "name": "ipython",
    "version": 3
   },
   "file_extension": ".py",
   "mimetype": "text/x-python",
   "name": "python",
   "nbconvert_exporter": "python",
   "pygments_lexer": "ipython3",
   "version": "3.8.16"
  },
  "orig_nbformat": 4
 },
 "nbformat": 4,
 "nbformat_minor": 2
}
